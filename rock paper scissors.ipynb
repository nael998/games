{
 "cells": [
  {
   "cell_type": "code",
   "execution_count": 1,
   "id": "5310cbe6",
   "metadata": {},
   "outputs": [
    {
     "name": "stdout",
     "output_type": "stream",
     "text": [
      "enter a choice(rock,paper,scissors): paper\n",
      "you chose paper, computer chose scissors\n",
      "scissors cuts paper, You lose\n"
     ]
    }
   ],
   "source": [
    "import random\n",
    "def get_choices():\n",
    "    player_choice = input(\"enter a choice(rock,paper,scissors): \")\n",
    "    options = ['rock','paper','scissors']\n",
    "    computer_choice = random.choice(options)\n",
    "    \n",
    "    choices = {'player': player_choice, 'computer':computer_choice}\n",
    "    \n",
    "    return choices\n",
    "\n",
    "\n",
    "def check_win(player,computer):\n",
    "    print(f\"you chose {player}, computer chose {computer}\")\n",
    "    if player == computer:\n",
    "        return \"It's a tie!\"\n",
    "    elif player == 'rock':\n",
    "        if computer == 'scissors':\n",
    "            return \"rock smashes scissors! You Win!\"\n",
    "        else:\n",
    "            return \"paper covers rock, You lose.\"\n",
    "    elif player == 'paper':\n",
    "        if computer == 'rock':\n",
    "            return \"paper covers rock, You win\"\n",
    "        else:\n",
    "            return \"scissors cuts paper, You lose\"\n",
    "    elif player == 'Scissors':\n",
    "        if computer == 'paper':\n",
    "            return \"scissors cuts paper, You Win\"\n",
    "        else:\n",
    "            return \"rock smashes scissors! You lose!\"\n",
    "        \n",
    "choices = get_choices()\n",
    "\n",
    "result = check_win(choices['player'],choices['computer'])\n",
    "\n",
    "print(result)"
   ]
  },
  {
   "cell_type": "code",
   "execution_count": null,
   "id": "22028ec2",
   "metadata": {},
   "outputs": [],
   "source": []
  },
  {
   "cell_type": "code",
   "execution_count": null,
   "id": "b25c0084",
   "metadata": {},
   "outputs": [],
   "source": []
  },
  {
   "cell_type": "code",
   "execution_count": null,
   "id": "3f8365e7",
   "metadata": {},
   "outputs": [],
   "source": []
  }
 ],
 "metadata": {
  "kernelspec": {
   "display_name": "Python 3 (ipykernel)",
   "language": "python",
   "name": "python3"
  },
  "language_info": {
   "codemirror_mode": {
    "name": "ipython",
    "version": 3
   },
   "file_extension": ".py",
   "mimetype": "text/x-python",
   "name": "python",
   "nbconvert_exporter": "python",
   "pygments_lexer": "ipython3",
   "version": "3.11.5"
  }
 },
 "nbformat": 4,
 "nbformat_minor": 5
}
